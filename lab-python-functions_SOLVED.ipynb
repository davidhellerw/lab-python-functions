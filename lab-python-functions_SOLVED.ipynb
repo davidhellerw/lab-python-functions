{
 "cells": [
  {
   "cell_type": "markdown",
   "id": "25d7736c-ba17-4aff-b6bb-66eba20fbf4e",
   "metadata": {},
   "source": [
    "# Lab | Functions"
   ]
  },
  {
   "cell_type": "markdown",
   "id": "0c581062-8967-4d93-b06e-62833222f930",
   "metadata": {
    "tags": []
   },
   "source": [
    "## Exercise: Managing Customer Orders with Functions\n",
    "\n",
    "In the previous exercise, you improved the code for managing customer orders by using loops and flow control. Now, let's take it a step further and refactor the code by introducing functions.\n",
    "\n",
    "Follow the steps below to complete the exercise:\n",
    "\n",
    "1. Define a function named `initialize_inventory` that takes `products` as a parameter. Inside the function, implement the code for initializing the inventory dictionary using a loop and user input.\n",
    "\n",
    "2. Define a function named `get_customer_orders` that takes no parameters. Inside the function, implement the code for prompting the user to enter the product names using a loop. The function should return the `customer_orders` set.\n",
    "\n",
    "3. Define a function named `update_inventory` that takes `customer_orders` and `inventory` as parameters. Inside the function, implement the code for updating the inventory dictionary based on the customer orders.\n",
    "\n",
    "4. Define a function named `calculate_order_statistics` that takes `customer_orders` and `products` as parameters. Inside the function, implement the code for calculating the order statistics (total products ordered, and percentage of unique products ordered). The function should return these values.\n",
    "\n",
    "5. Define a function named `print_order_statistics` that takes `order_statistics` as a parameter. Inside the function, implement the code for printing the order statistics.\n",
    "\n",
    "6. Define a function named `print_updated_inventory` that takes `inventory` as a parameter. Inside the function, implement the code for printing the updated inventory.\n",
    "\n",
    "7. Call the functions in the appropriate sequence to execute the program and manage customer orders.\n",
    "\n",
    "Hints for functions:\n",
    "\n",
    "- Consider the input parameters required for each function and their return values.\n",
    "- Utilize function parameters and return values to transfer data between functions.\n",
    "- Test your functions individually to ensure they work correctly.\n",
    "\n",
    "\n"
   ]
  },
  {
   "cell_type": "code",
   "execution_count": 1,
   "id": "f9cd9c30",
   "metadata": {},
   "outputs": [],
   "source": [
    "def initialize_inventory(products):\n",
    "    inventory = {}\n",
    "    for product in products:\n",
    "        inventory[product]=int(input(f\" Enter the number of {product}s \"))\n",
    "    return inventory"
   ]
  },
  {
   "cell_type": "code",
   "execution_count": 2,
   "id": "9a33c1a9",
   "metadata": {},
   "outputs": [
    {
     "name": "stdout",
     "output_type": "stream",
     "text": [
      " Enter the number of t-shirts 10\n",
      " Enter the number of mugs 10\n",
      " Enter the number of hats 10\n",
      " Enter the number of books 10\n",
      " Enter the number of keychains 10\n"
     ]
    },
    {
     "data": {
      "text/plain": [
       "{'t-shirt': 10, 'mug': 10, 'hat': 10, 'book': 10, 'keychain': 10}"
      ]
     },
     "execution_count": 2,
     "metadata": {},
     "output_type": "execute_result"
    }
   ],
   "source": [
    "products = [\"t-shirt\", \"mug\", \"hat\", \"book\", \"keychain\"]\n",
    "inventory = initialize_inventory(products)\n",
    "inventory"
   ]
  },
  {
   "cell_type": "code",
   "execution_count": 3,
   "id": "6cbc5e07",
   "metadata": {},
   "outputs": [],
   "source": [
    "def get_customer_orders():\n",
    "    customer_orders = set()\n",
    "    place_order = \"yes\"\n",
    "    while place_order == \"yes\":\n",
    "        customer_orders.add(input(f\"Enter the product you want to add: \"))\n",
    "        place_order = input(\"Do you want to add another product? Enter yes or no: \")\n",
    "    return customer_orders"
   ]
  },
  {
   "cell_type": "code",
   "execution_count": 7,
   "id": "0c61eb42",
   "metadata": {},
   "outputs": [
    {
     "name": "stdout",
     "output_type": "stream",
     "text": [
      "Enter the product you want to add: t-shirt\n",
      "Do you want to add another product? Enter yes or no: yes\n",
      "Enter the product you want to add: mug\n",
      "Do you want to add another product? Enter yes or no: no\n"
     ]
    }
   ],
   "source": [
    "customer_orders = get_customer_orders()"
   ]
  },
  {
   "cell_type": "code",
   "execution_count": 8,
   "id": "a871a566",
   "metadata": {},
   "outputs": [],
   "source": [
    "def update_inventory(customer_orders, inventory):\n",
    "    list_customer_orders = list(customer_orders)\n",
    "    for product in list_customer_orders:\n",
    "        inventory[product] -= 1\n",
    "    return inventory"
   ]
  },
  {
   "cell_type": "code",
   "execution_count": 9,
   "id": "ed8c7a06",
   "metadata": {},
   "outputs": [
    {
     "data": {
      "text/plain": [
       "{'t-shirt': 9, 'mug': 8, 'hat': 10, 'book': 10, 'keychain': 10}"
      ]
     },
     "execution_count": 9,
     "metadata": {},
     "output_type": "execute_result"
    }
   ],
   "source": [
    "update_inventory(customer_orders, inventory)"
   ]
  },
  {
   "cell_type": "code",
   "execution_count": 10,
   "id": "b210e39d",
   "metadata": {},
   "outputs": [],
   "source": [
    "def calculate_order_statistics(customer_orders, products):\n",
    "    total_products_ordered = len(customer_orders)\n",
    "    percentage_of_products_ordered = (total_products_ordered / len(products)) * 100\n",
    "    order_statistics = total_products_ordered, percentage_of_products_ordered\n",
    "    return order_statistics"
   ]
  },
  {
   "cell_type": "code",
   "execution_count": 11,
   "id": "807ab897",
   "metadata": {},
   "outputs": [],
   "source": [
    "order_statistics = calculate_order_statistics(customer_orders, products)"
   ]
  },
  {
   "cell_type": "code",
   "execution_count": 12,
   "id": "587f9394",
   "metadata": {},
   "outputs": [],
   "source": [
    "def print_order_statistics(order_statistics):\n",
    "    total_products_ordered, percentage_of_products_ordered = order_statistics\n",
    "    print(f\"Total products ordered: {total_products_ordered}. Percentage of products ordered: {percentage_of_products_ordered}%\")"
   ]
  },
  {
   "cell_type": "code",
   "execution_count": 13,
   "id": "969dc4f8",
   "metadata": {},
   "outputs": [
    {
     "name": "stdout",
     "output_type": "stream",
     "text": [
      "Total products ordered: 2. Percentage of products ordered: 40.0%\n"
     ]
    }
   ],
   "source": [
    "print_order_statistics(order_statistics)"
   ]
  },
  {
   "cell_type": "code",
   "execution_count": 14,
   "id": "a4034992",
   "metadata": {},
   "outputs": [],
   "source": [
    "#Define a function named print_updated_inventory that takes inventory as a parameter. \n",
    "#Inside the function, implement the code for printing the updated inventory.\n",
    "\n",
    "def print_updated_inventory(inventory):\n",
    "    print(inventory)"
   ]
  },
  {
   "cell_type": "code",
   "execution_count": 15,
   "id": "d3a1e6e6",
   "metadata": {},
   "outputs": [
    {
     "name": "stdout",
     "output_type": "stream",
     "text": [
      "{'t-shirt': 9, 'mug': 8, 'hat': 10, 'book': 10, 'keychain': 10}\n"
     ]
    }
   ],
   "source": [
    "print_updated_inventory(inventory)"
   ]
  },
  {
   "cell_type": "code",
   "execution_count": 16,
   "id": "b0eb76f8",
   "metadata": {},
   "outputs": [
    {
     "name": "stdout",
     "output_type": "stream",
     "text": [
      " Enter the number of t-shirts 10\n",
      " Enter the number of mugs 10\n",
      " Enter the number of hats 10\n",
      " Enter the number of books 10\n",
      " Enter the number of keychains 10\n",
      "Enter the product you want to add: hat\n",
      "Do you want to add another product? Enter yes or no: yes\n",
      "Enter the product you want to add: book\n",
      "Do you want to add another product? Enter yes or no: no\n",
      "Total products ordered: 2. Percentage of products ordered: 40.0%\n",
      "{'t-shirt': 10, 'mug': 10, 'hat': 9, 'book': 9, 'keychain': 10}\n"
     ]
    }
   ],
   "source": [
    "#Program\n",
    "\n",
    "products = [\"t-shirt\", \"mug\", \"hat\", \"book\", \"keychain\"]\n",
    "\n",
    "def initialize_inventory(products):\n",
    "    inventory = {}\n",
    "    for product in products:\n",
    "        inventory[product]=int(input(f\" Enter the number of {product}s \"))\n",
    "    return inventory\n",
    "\n",
    "inventory = initialize_inventory(products)\n",
    "\n",
    "def get_customer_orders():\n",
    "    customer_orders = set()\n",
    "    place_order = \"yes\"\n",
    "    while place_order == \"yes\":\n",
    "        customer_orders.add(input(f\"Enter the product you want to add: \"))\n",
    "        place_order = input(\"Do you want to add another product? Enter yes or no: \")\n",
    "    return customer_orders\n",
    "\n",
    "customer_orders = get_customer_orders()\n",
    "\n",
    "def update_inventory(customer_orders, inventory):\n",
    "    list_customer_orders = list(customer_orders)\n",
    "    for product in list_customer_orders:\n",
    "        inventory[product] -= 1\n",
    "    return inventory\n",
    "\n",
    "inventory = update_inventory(customer_orders, inventory)\n",
    "\n",
    "def calculate_order_statistics(customer_orders, products):\n",
    "    total_products_ordered = len(customer_orders)\n",
    "    percentage_of_products_ordered = (total_products_ordered / len(products)) * 100\n",
    "    order_statistics = total_products_ordered, percentage_of_products_ordered\n",
    "    return order_statistics\n",
    "\n",
    "order_statistics = calculate_order_statistics(customer_orders, products)\n",
    "\n",
    "def print_order_statistics(order_statistics):\n",
    "    total_products_ordered, percentage_of_products_ordered = order_statistics\n",
    "    print(f\"Total products ordered: {total_products_ordered}. Percentage of products ordered: {percentage_of_products_ordered}%\")\n",
    "    \n",
    "def print_updated_inventory(inventory):\n",
    "    print(inventory)\n",
    "    \n",
    "print_order_statistics(order_statistics)\n",
    "print_updated_inventory(inventory)"
   ]
  }
 ],
 "metadata": {
  "kernelspec": {
   "display_name": "Python 3 (ipykernel)",
   "language": "python",
   "name": "python3"
  },
  "language_info": {
   "codemirror_mode": {
    "name": "ipython",
    "version": 3
   },
   "file_extension": ".py",
   "mimetype": "text/x-python",
   "name": "python",
   "nbconvert_exporter": "python",
   "pygments_lexer": "ipython3",
   "version": "3.11.7"
  }
 },
 "nbformat": 4,
 "nbformat_minor": 5
}
